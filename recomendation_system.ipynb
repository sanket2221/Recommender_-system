{
  "nbformat": 4,
  "nbformat_minor": 0,
  "metadata": {
    "colab": {
      "name": "recomendation_system.ipynb",
      "provenance": [],
      "collapsed_sections": [],
      "authorship_tag": "ABX9TyOsdk8QJHdHk9UYkZ3Xowrx"
    },
    "kernelspec": {
      "name": "python3",
      "display_name": "Python 3"
    }
  },
  "cells": [
    {
      "cell_type": "markdown",
      "metadata": {
        "id": "A4J8I805dgdc",
        "colab_type": "text"
      },
      "source": [
        "###Content Based Filtering"
      ]
    },
    {
      "cell_type": "code",
      "metadata": {
        "id": "CO18Bw5H0eRk",
        "colab_type": "code",
        "colab": {}
      },
      "source": [
        "import pandas as pd\n",
        "from sklearn.feature_extraction.text import TfidfVectorizer\n",
        "from sklearn.metrics.pairwise import linear_kernel\n"
      ],
      "execution_count": 0,
      "outputs": []
    },
    {
      "cell_type": "code",
      "metadata": {
        "id": "eM04ifzL5qR1",
        "colab_type": "code",
        "colab": {}
      },
      "source": [
        "users = pd.read_csv('users.csv')\n",
        "posts = pd.read_csv('posts.csv').fillna('None')\n",
        "views = pd.read_csv('views.csv')\n",
        "posts.head()\n",
        "columns  = list(posts.columns)\n",
        "columns[2] , columns[3] = columns[3] , columns[2]\n",
        "posts.columns = columns\n"
      ],
      "execution_count": 0,
      "outputs": []
    },
    {
      "cell_type": "code",
      "metadata": {
        "id": "LX8RRVWH53Nx",
        "colab_type": "code",
        "colab": {}
      },
      "source": [
        "posts['features'] = posts['category']+ ' ' +posts[' post_type']"
      ],
      "execution_count": 0,
      "outputs": []
    },
    {
      "cell_type": "code",
      "metadata": {
        "id": "NdzsO3Q053uu",
        "colab_type": "code",
        "colab": {}
      },
      "source": [
        "\n",
        "tf = TfidfVectorizer(analyzer='word', ngram_range=(1, 6), min_df=0, stop_words='english')\n",
        "tfidf_matrix = tf.fit_transform(posts['features'])\n",
        "\n",
        "cosine_similarities = linear_kernel(tfidf_matrix, tfidf_matrix)\n"
      ],
      "execution_count": 0,
      "outputs": []
    },
    {
      "cell_type": "code",
      "metadata": {
        "id": "tn0u2ESg56Ca",
        "colab_type": "code",
        "colab": {}
      },
      "source": [
        "results = {}\n",
        "\n",
        "for idx, row in posts.iterrows():\n",
        "    similar_indices = cosine_similarities[idx].argsort()[:-100:-1]\n",
        "\n",
        "    similar_items = [(cosine_similarities[idx][i], posts['_id'][i]) for i in similar_indices]\n",
        "    results[row['_id']] = similar_items[1:]\n"
      ],
      "execution_count": 0,
      "outputs": []
    },
    {
      "cell_type": "code",
      "metadata": {
        "id": "lKQgPznr6KyU",
        "colab_type": "code",
        "colab": {}
      },
      "source": [
        "\n",
        "def item(id):\n",
        "  return (posts.loc[posts['_id'] == id]['title'].tolist()[0],posts.loc[posts['_id'] == id]['category'].tolist()[0])\n",
        "\n",
        "def recommend(item_id, num):\n",
        "    a,b=item(item_id)\n",
        "    print('similar posts to {} of Category :{} '.format(a,b))\n",
        "    recs = results[item_id][:num]\n",
        "    for rec in recs:\n",
        "        a,b = item(rec[1])\n",
        "        print('\\n',a,'-- CATEGORY :',b)\n",
        "        \n"
      ],
      "execution_count": 0,
      "outputs": []
    },
    {
      "cell_type": "code",
      "metadata": {
        "id": "a5-t4esv6W2C",
        "colab_type": "code",
        "outputId": "1dc46c44-2962-40bd-ada9-b015f46f9f4d",
        "colab": {
          "base_uri": "https://localhost:8080/",
          "height": 386
        }
      },
      "source": [
        "recommend('5ec821ddec493f4a2655889e',10)"
      ],
      "execution_count": 0,
      "outputs": [
        {
          "output_type": "stream",
          "text": [
            "similar posts to Save Earth. of Category :artwork \n",
            "\n",
            " 'The Virtual ME' -- CATEGORY : artwork\n",
            "\n",
            " EID MUBARAK -- CATEGORY : artwork\n",
            "\n",
            " Magazine Cover Redefined -- CATEGORY : artwork\n",
            "\n",
            " Design Process -- CATEGORY : artwork\n",
            "\n",
            " Gun store Logo. -- CATEGORY : artwork\n",
            "\n",
            " Break The Chain: Stop The Spread -- CATEGORY : artwork\n",
            "\n",
            " Handwashing 101 -- CATEGORY : artwork\n",
            "\n",
            " Be kind during Corona -- CATEGORY : artwork\n",
            "\n",
            " Corona's Checklist -- CATEGORY : artwork\n",
            "\n",
            " Is there any vaccine of COVID-19? -- CATEGORY : artwork\n"
          ],
          "name": "stdout"
        }
      ]
    },
    {
      "cell_type": "code",
      "metadata": {
        "id": "qJRueJ8_6fUD",
        "colab_type": "code",
        "outputId": "9bcb1768-7a5b-45f5-8bf8-fadc4902ae31",
        "colab": {
          "base_uri": "https://localhost:8080/",
          "height": 386
        }
      },
      "source": [
        "post_id = '5d6d39567fa40e1417a4931c'\n",
        "recommend(post_id,10)"
      ],
      "execution_count": 0,
      "outputs": [
        {
          "output_type": "stream",
          "text": [
            "similar posts to Ml and AI of Category :blog \n",
            "\n",
            " Machine Learning”&“Operations\" (MlOps) -- CATEGORY : blog\n",
            "\n",
            " Learning... -- CATEGORY : blog\n",
            "\n",
            " GAN's INTRODUCTION -- CATEGORY : blog\n",
            "\n",
            " Recommend Systems Machine Learning -- CATEGORY : blog\n",
            "\n",
            " 7 Best Python Data Science Courses & Certification [2020] -- CATEGORY : blog\n",
            "\n",
            " GAN's Part(2) -- CATEGORY : blog\n",
            "\n",
            " 10 Best Artificial Intelligence (AI) Courses Online for 2020 -- CATEGORY : blog\n",
            "\n",
            " Artificial Intelligence -- CATEGORY : blog\n",
            "\n",
            " Types Of AI. -- CATEGORY : blog\n",
            "\n",
            " What sports will look like in the future -- CATEGORY : blog\n"
          ],
          "name": "stdout"
        }
      ]
    },
    {
      "cell_type": "code",
      "metadata": {
        "id": "P8bxprq49fpU",
        "colab_type": "code",
        "outputId": "687ab472-a75e-43af-e2e1-24b403dc85e9",
        "colab": {
          "base_uri": "https://localhost:8080/",
          "height": 386
        }
      },
      "source": [
        "post_id = '5e4c28c5f5561b1994c8e3b0'\n",
        "recommend(post_id,10)"
      ],
      "execution_count": 0,
      "outputs": [
        {
          "output_type": "stream",
          "text": [
            "similar posts to E-Commerce - Business Models of Category :blog \n",
            "\n",
            " Benefits of Buying Grocery Online in Twin city of Odisha -- CATEGORY : blog\n",
            "\n",
            " EDI (Electronic data interchange) -- CATEGORY : blog\n",
            "\n",
            " E-Cash -- CATEGORY : blog\n",
            "\n",
            " E-Commerce -- CATEGORY : blog\n",
            "\n",
            " Students Networking! -- CATEGORY : blog\n",
            "\n",
            " Marital Rape - Rape is Rape -- CATEGORY : blog\n",
            "\n",
            " Biodiversity -- CATEGORY : blog\n",
            "\n",
            " How Competition law evolved? -- CATEGORY : blog\n",
            "\n",
            " Raghavan Committee - 2002. -- CATEGORY : blog\n",
            "\n",
            " Let's discuss some Case laws! -- CATEGORY : blog\n"
          ],
          "name": "stdout"
        }
      ]
    },
    {
      "cell_type": "code",
      "metadata": {
        "id": "obvZF9SP9uFk",
        "colab_type": "code",
        "colab": {}
      },
      "source": [
        ""
      ],
      "execution_count": 0,
      "outputs": []
    },
    {
      "cell_type": "markdown",
      "metadata": {
        "id": "IWc8uxs8dUMp",
        "colab_type": "text"
      },
      "source": [
        "###Collaborative Filtering"
      ]
    },
    {
      "cell_type": "code",
      "metadata": {
        "id": "67nNUGtAdeZM",
        "colab_type": "code",
        "colab": {}
      },
      "source": [
        "views['seen'] = 1\n",
        "merged1 = pd.merge(views,users,how='left' ,left_on='user_id',right_on='_id').drop('_id', axis=1)\n",
        "data = pd.merge(merged1,posts,how='left' ,left_on='post_id',right_on='_id').drop('_id', axis=1)\n",
        "\n",
        "data =data.dropna()\n",
        "\n",
        "pivot = pd.pivot_table(data,index='user_id',columns='post_id',values='seen',fill_value=0)\n",
        "\n",
        "correlation_posts = pivot.corr()\n",
        "correlation_users = pivot.transpose().corr()\n"
      ],
      "execution_count": 0,
      "outputs": []
    },
    {
      "cell_type": "code",
      "metadata": {
        "id": "5grgWFXAd0zg",
        "colab_type": "code",
        "colab": {}
      },
      "source": [
        "def get_similar_users(user_id):\n",
        "    similar_users = correlation_users[user_id]\n",
        "    similar_users = similar_users.sort_values(ascending=False)[1:10]\n",
        "    return similar_users\n"
      ],
      "execution_count": 0,
      "outputs": []
    },
    {
      "cell_type": "code",
      "metadata": {
        "id": "B-k5DklheAfz",
        "colab_type": "code",
        "colab": {}
      },
      "source": [
        "def recommend(user,n):\n",
        "    print('Posts viewed by users similar to',users.loc[users['_id']==user]['name'].tolist())\n",
        "    similar_users_id = get_similar_users(user)\n",
        "    reccs = []\n",
        "    for id in similar_users_id.index:\n",
        "        posts_recs = (data[data['user_id'] == id]['title'].tolist())\n",
        "        for post in posts_recs:\n",
        "            reccs.append(post)\n",
        "    return reccs[:n]\n"
      ],
      "execution_count": 0,
      "outputs": []
    },
    {
      "cell_type": "code",
      "metadata": {
        "id": "iR1mCGzieDYp",
        "colab_type": "code",
        "outputId": "e356f355-2545-4d90-be13-16a43c05e2cd",
        "colab": {
          "base_uri": "https://localhost:8080/",
          "height": 210
        }
      },
      "source": [
        "user = '5d618359fc5fcf3bdd9a0910'\n",
        "\n",
        "recommend(user,10)\n"
      ],
      "execution_count": 0,
      "outputs": [
        {
          "output_type": "stream",
          "text": [
            "Posts viewed by users similar to ['Akshay Mishra']\n"
          ],
          "name": "stdout"
        },
        {
          "output_type": "execute_result",
          "data": {
            "text/plain": [
              "['Cloud Computing',\n",
              " 'Learning...',\n",
              " 'Launching an EC2 instance.',\n",
              " 'AWS CLI Setup in Mac',\n",
              " 'Configure Docker with Django; PostgreSQL; Pg-admin & Elasticsearch',\n",
              " 'CI/CD using GitHub Actions',\n",
              " 'Face Recognition using Transfer Learning.',\n",
              " 'Recommendation Engine',\n",
              " 'We can overcome these days!',\n",
              " 'Designing Circular Microstrip Antenna']"
            ]
          },
          "metadata": {
            "tags": []
          },
          "execution_count": 70
        }
      ]
    },
    {
      "cell_type": "code",
      "metadata": {
        "id": "x_tdP9aOeFsf",
        "colab_type": "code",
        "outputId": "d00f80b0-bc67-4f20-bcb9-de32bbe1b193",
        "colab": {
          "base_uri": "https://localhost:8080/",
          "height": 298
        }
      },
      "source": [
        "user = '5e3563348d344822fed4d13a'\n",
        "recommend(user,15)"
      ],
      "execution_count": 0,
      "outputs": [
        {
          "output_type": "stream",
          "text": [
            "Posts viewed by users similar to ['Ojasvi Arya']\n"
          ],
          "name": "stdout"
        },
        {
          "output_type": "execute_result",
          "data": {
            "text/plain": [
              "['The Waves Have Stood Still',\n",
              " 'Machine Learning”&“Operations\" (MlOps)',\n",
              " 'Faith in yourself',\n",
              " 'Zero-Waste Lifestyle',\n",
              " 'Novel & Consenent (P.H.P)',\n",
              " 'Always do Right 👍🏻',\n",
              " 'Art Expo 2020',\n",
              " 'Save Earth.',\n",
              " 'Kabir singh',\n",
              " 'Form of ma durga',\n",
              " 'HUMAN ILLUSTRATION (With Galaxy Background)',\n",
              " 'HUMAN ILLUSTRATION ( Background of a room)',\n",
              " 'FASHION ILLUSTRATION',\n",
              " 'HUMAN ILLUSTRATION',\n",
              " 'FASHION ILLUSTRATION (OP ART)']"
            ]
          },
          "metadata": {
            "tags": []
          },
          "execution_count": 71
        }
      ]
    },
    {
      "cell_type": "code",
      "metadata": {
        "id": "sOqPx_ktjSGj",
        "colab_type": "code",
        "outputId": "a6fcd72a-9a1f-44cc-fc1f-004c4a8fe44b",
        "colab": {
          "base_uri": "https://localhost:8080/",
          "height": 298
        }
      },
      "source": [
        "user = '5e1ef04c2a37d20505da2b8b'\n",
        "recommend(user,15)"
      ],
      "execution_count": 0,
      "outputs": [
        {
          "output_type": "stream",
          "text": [
            "Posts viewed by users similar to ['Rashi Jain']\n"
          ],
          "name": "stdout"
        },
        {
          "output_type": "execute_result",
          "data": {
            "text/plain": [
              "['Moore FSM Sequence Detector',\n",
              " 'Understanding Cloud Computing(AWS)',\n",
              " 'Photography Composition',\n",
              " 'Designing Cmos circuit from Boolean expressions (Microwind)',\n",
              " 'The Waves Have Stood Still',\n",
              " 'Machine Learning”&“Operations\" (MlOps)',\n",
              " 'Faith in yourself',\n",
              " 'Beliefs ❣️',\n",
              " 'Form of ma durga',\n",
              " 'HUMAN ILLUSTRATION ( Background of a room)',\n",
              " 'HUMAN ILLUSTRATION (With Galaxy Background)',\n",
              " 'HUMAN ILLUSTRATION',\n",
              " 'FASHION ILLUSTRATION',\n",
              " 'FASHION ILLUSTRATION (OP ART)',\n",
              " 'FASHION ILLUSTRATION (street fashion)']"
            ]
          },
          "metadata": {
            "tags": []
          },
          "execution_count": 72
        }
      ]
    },
    {
      "cell_type": "code",
      "metadata": {
        "id": "WZ8tf5BomlYo",
        "colab_type": "code",
        "colab": {}
      },
      "source": [
        ""
      ],
      "execution_count": 0,
      "outputs": []
    }
  ]
}